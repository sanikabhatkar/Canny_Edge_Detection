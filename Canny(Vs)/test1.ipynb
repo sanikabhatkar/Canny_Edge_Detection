{
 "cells": [
  {
   "cell_type": "code",
   "execution_count": null,
   "metadata": {},
   "outputs": [],
   "source": [
    "image_path = r\"./image/Sanika.jpeg\"\n",
    "output_image_path = r\"C:/Users\\bavas\\Downloads\\Canny-Edge-Detector-Using-Verilog-master\\Canny-Edge-Detector-Using-Verilog-master\\resources\\test2_output.jpg\""
   ]
  },
  {
   "cell_type": "code",
   "execution_count": 6,
   "metadata": {},
   "outputs": [
    {
     "name": "stdout",
     "output_type": "stream",
     "text": [
      "Pillow not found. Installing...\n",
      "Pillow installed successfully. Version: 11.1.0\n"
     ]
    }
   ],
   "source": [
    "import subprocess\n",
    "import sys\n",
    "\n",
    "def install_pillow():\n",
    "    try:\n",
    "        # Check if PIL (Pillow) is already installed\n",
    "        import PIL\n",
    "        print(f\"Pillow is already installed. Version: {PIL.__version__}\")\n",
    "    except ModuleNotFoundError:\n",
    "        print(\"Pillow not found. Installing...\")\n",
    "        subprocess.check_call([sys.executable, \"-m\", \"pip\", \"install\", \"--upgrade\", \"pip\"])  # Upgrade pip\n",
    "        subprocess.check_call([sys.executable, \"-m\", \"pip\", \"install\", \"Pillow\"])  # Install Pillow\n",
    "        \n",
    "        try:\n",
    "            import PIL\n",
    "            print(f\"Pillow installed successfully. Version: {PIL.__version__}\")\n",
    "        except ModuleNotFoundError:\n",
    "            print(\"Installation failed. Try running the script as administrator or check your Python environment.\")\n",
    "\n",
    "if __name__ == \"__main__\":\n",
    "    install_pillow()\n"
   ]
  },
  {
   "cell_type": "code",
   "execution_count": 24,
   "metadata": {},
   "outputs": [
    {
     "name": "stdout",
     "output_type": "stream",
     "text": [
      "Hex data saved successfully to: C:\\Users\\bavas\\Downloads\\Canny-Edge-Detector-Using-Verilog-master\\Canny-Edge-Detector-Using-Verilog-master\\temp\\generated_input.txt\n"
     ]
    }
   ],
   "source": [
    "from PIL import Image\n",
    "import os\n",
    "\n",
    "# Ensure the temp directory exists\n",
    "os.makedirs(r\"C:\\Users\\bavas\\Downloads\\Canny-Edge-Detector-Using-Verilog-master\\Canny-Edge-Detector-Using-Verilog-master\\temp\", exist_ok=True)\n",
    "\n",
    "# Define input image path (Replace with actual path)\n",
    "image_path = r\"C:\\Users\\bavas\\Downloads\\Canny-Edge-Detector-Using-Verilog-master\\Canny-Edge-Detector-Using-Verilog-master\\resources\\test2.jpg\"\n",
    "\n",
    "# Open and process the image\n",
    "img = Image.open(image_path)\n",
    "img = img.convert('L')  # Convert to grayscale\n",
    "img = img.resize((256, 256), Image.BICUBIC)  # Resize to 256x256\n",
    "\n",
    "# Get image dimensions\n",
    "width, height = img.size\n",
    "\n",
    "# Function to convert a value to hexadecimal\n",
    "def to_hex(val):\n",
    "    return format(val, '02X')\n",
    "\n",
    "# Write pixel values to file\n",
    "with open(r'C:\\Users\\bavas\\Downloads\\Canny-Edge-Detector-Using-Verilog-master\\Canny-Edge-Detector-Using-Verilog-master\\temp\\generated_input.txt', 'w') as file:\n",
    "    for y in range(height):\n",
    "        for x in range(width):\n",
    "            window = img.crop((x-1, y-1, x+2, y+2)).load()\n",
    "            \n",
    "            # Extract 3x3 pixel values\n",
    "            pixels = [window[i, j] for j in range(3) for i in range(3)]\n",
    "\n",
    "            # Convert each pixel value to hex\n",
    "            hex_values = [to_hex(pixel) for pixel in pixels]  # ✅ Fixed Here\n",
    "\n",
    "            # Write to file\n",
    "            file.write('\\t'.join(hex_values) + '\\t')\n",
    "\n",
    "output_file_path = r\"C:\\Users\\bavas\\Downloads\\Canny-Edge-Detector-Using-Verilog-master\\Canny-Edge-Detector-Using-Verilog-master\\temp\\generated_input.txt\"\n",
    "print(f\"Hex data saved successfully to: {output_file_path}\")\n"
   ]
  },
  {
   "cell_type": "code",
   "execution_count": 10,
   "metadata": {},
   "outputs": [],
   "source": [
    "from PIL import Image\n",
    "\n",
    "def to_hex(pixel):\n",
    "    \"\"\"Convert a pixel value (int or tuple) to hex format.\"\"\"\n",
    "    if isinstance(pixel, (list, tuple)):  # If pixel is a tuple (R, G, B)\n",
    "        return ''.join(format(v, '02X') for v in pixel)  # Convert each value to hex\n",
    "    return format(pixel, '02X')  # If pixel is a single integer, convert directly\n",
    "\n",
    "# Load image\n",
    "img = Image.open(r\"C:\\Users\\bavas\\Downloads\\Canny-Edge-Detector-Using-Verilog-master\\Canny-Edge-Detector-Using-Verilog-master\\resources\\test2.jpg\")  # Replace with your image path\n",
    "img = img.convert(\"RGB\")  # Ensure image is in RGB mode\n",
    "\n",
    "with open(\"output.txt\", \"w\") as file:\n",
    "    width, height = img.size\n",
    "    \n",
    "    for y in range(1, height - 1):\n",
    "        for x in range(1, width - 1):\n",
    "            window = img.crop((x - 1, y - 1, x + 2, y + 2)).load()\n",
    "            \n",
    "            # Extract 3x3 pixel values\n",
    "            pixels = [window[i, j] for j in range(3) for i in range(3)]\n",
    "            \n",
    "            # Convert to hex\n",
    "            hex_values = [to_hex(pixel) for pixel in pixels]\n",
    "\n",
    "            # Write hex values to file\n",
    "            file.write('\\t'.join(hex_values) + '\\t')\n"
   ]
  },
  {
   "cell_type": "code",
   "execution_count": 15,
   "metadata": {},
   "outputs": [
    {
     "name": "stdout",
     "output_type": "stream",
     "text": [
      "Total values found: 65535\n",
      "First 10 values: [597, 597, 597, 597, 597, 597, 597, 597, 597, 597]\n",
      "Output Image saved as: output.png\n"
     ]
    }
   ],
   "source": [
    "from PIL import Image\n",
    "\n",
    "# Define output image path\n",
    "output_image_path = \"output.png\"\n",
    "\n",
    "# Read the file\n",
    "with open(r'C:\\Users\\bavas\\Downloads\\Canny-Edge-Detector-Using-Verilog-master\\Canny-Edge-Detector-Using-Verilog-master\\temp\\edgefile_canny.txt', 'r') as file:\n",
    "    content = file.read()\n",
    "\n",
    "# Convert hex values to integers (Fix: Use split() to handle any whitespace)\n",
    "numbers = [int(val.strip(), 16) for val in content.split() if val.strip()]\n",
    "\n",
    "# Debugging: Check number of values\n",
    "print(f\"Total values found: {len(numbers)}\")\n",
    "print(\"First 10 values:\", numbers[:10])  # Show first 10 values for debugging\n",
    "\n",
    "# Ensure we have enough values, fill missing ones with 0\n",
    "while len(numbers) < 256 * 256:\n",
    "    numbers.append(0)  # Fill missing pixels with black\n",
    "\n",
    "# Create a grayscale image\n",
    "image = Image.new('L', (256, 256))  # 'L' mode for grayscale\n",
    "\n",
    "# Set pixel values\n",
    "for y in range(256):\n",
    "    for x in range(256):\n",
    "        pixel_value = numbers[y * 256 + x]\n",
    "        image.putpixel((x, y), pixel_value)\n",
    "\n",
    "# Save and display the image\n",
    "image.save(output_image_path)\n",
    "print(f\"Output Image saved as: {output_image_path}\")\n",
    "image.show()\n"
   ]
  }
 ],
 "metadata": {
  "kernelspec": {
   "display_name": "Python 3",
   "language": "python",
   "name": "python3"
  },
  "language_info": {
   "codemirror_mode": {
    "name": "ipython",
    "version": 3
   },
   "file_extension": ".py",
   "mimetype": "text/x-python",
   "name": "python",
   "nbconvert_exporter": "python",
   "pygments_lexer": "ipython3",
   "version": "3.12.2"
  }
 },
 "nbformat": 4,
 "nbformat_minor": 2
}
